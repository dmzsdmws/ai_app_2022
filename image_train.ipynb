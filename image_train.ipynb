{
  "nbformat": 4,
  "nbformat_minor": 0,
  "metadata": {
    "colab": {
      "provenance": [],
      "gpuType": "T4",
      "authorship_tag": "ABX9TyPOFhHI9zGx6zTxP3jaFRkT",
      "include_colab_link": true
    },
    "kernelspec": {
      "name": "python3",
      "display_name": "Python 3"
    },
    "language_info": {
      "name": "python"
    },
    "accelerator": "GPU"
  },
  "cells": [
    {
      "cell_type": "markdown",
      "metadata": {
        "id": "view-in-github",
        "colab_type": "text"
      },
      "source": [
        "<a href=\"https://colab.research.google.com/github/dmzsdmws/ai_app_2022/blob/main/image_train.ipynb\" target=\"_parent\"><img src=\"https://colab.research.google.com/assets/colab-badge.svg\" alt=\"Open In Colab\"/></a>"
      ]
    },
    {
      "cell_type": "code",
      "execution_count": null,
      "metadata": {
        "colab": {
          "base_uri": "https://localhost:8080/"
        },
        "id": "u9UJJGTDM5kW",
        "outputId": "d35c166b-9362-4343-f753-58c842be12fb"
      },
      "outputs": [
        {
          "output_type": "stream",
          "name": "stdout",
          "text": [
            "Downloading https://www.cs.toronto.edu/~kriz/cifar-10-python.tar.gz to ./data/cifar-10-python.tar.gz\n"
          ]
        },
        {
          "output_type": "stream",
          "name": "stderr",
          "text": [
            "100%|██████████| 170498071/170498071 [00:12<00:00, 13200315.47it/s]\n"
          ]
        },
        {
          "output_type": "stream",
          "name": "stdout",
          "text": [
            "Extracting ./data/cifar-10-python.tar.gz to ./data\n",
            "データの数: 10000\n"
          ]
        }
      ],
      "source": [
        "from torchvision.datasets import CIFAR10\n",
        "import torchvision.transforms as transforms\n",
        "from torch.utils.data import DataLoader\n",
        "import numpy as np\n",
        "import matplotlib.pyplot as plt\n",
        "\n",
        "cifar10_data = CIFAR10(root=\"./data\",\n",
        "                       train=False,download=True,\n",
        "                       transform=transforms.ToTensor())\n",
        "cifar10_classes = np.array([\"airplane\", \"automobile\", \"bird\", \"cat\", \"deer\",\n",
        "                            \"dog\", \"frog\", \"horse\", \"ship\", \"truck\"])\n",
        "print(\"データの数:\", len(cifar10_data))\n",
        "\n",
        "n_image = 25  # 表示する画像の数\n",
        "cifar10_loader = DataLoader(cifar10_data, batch_size=n_image, shuffle=True)\n",
        "dataiter = iter(cifar10_loader)  # イテレータ\n",
        "images, labels = next(dataiter)  # 最初のバッチを取り出す\n",
        "\n",
        "plt.figure(figsize=(10,10))  # 画像の表示サイズ\n",
        "for i in range(n_image):\n",
        "    plt.subplot(5,5,i+1)\n",
        "    plt.imshow(np.transpose(images[i], (1, 2, 0)))  # チャンネルを一番後ろに\n",
        "    label = cifar10_classes[labels[i]]\n",
        "    plt.title(label)\n",
        "    plt.tick_params(labelbottom=False, labelleft=False, bottom=False, left=False)  # ラベルとメモリを非表示に\n",
        "\n",
        "plt.show()"
      ]
    },
    {
      "cell_type": "code",
      "source": [
        "from torchvision.datasets import CIFAR10\n",
        "import torchvision.transforms as transforms\n",
        "from torch.utils.data import DataLoader\n",
        "\n",
        "affine = transforms.RandomAffine([-15, 15], scale=(0.8, 1.2))  # 回転とリサイズ\n",
        "flip = transforms.RandomHorizontalFlip(p=0.5)  # 左右反転\n",
        "normalize = transforms.Normalize((0.0, 0.0, 0.0), (1.0, 1.0, 1.0))  # 平均値を0、標準偏差を1に\n",
        "to_tensor = transforms.ToTensor()\n",
        "\n",
        "transform_train = transforms.Compose([affine, flip, to_tensor, normalize])\n",
        "transform_test = transforms.Compose([to_tensor, normalize])\n",
        "cifar10_train = CIFAR10(\"./data\", train=True, download=True, transform=transform_train)\n",
        "cifar10_test = CIFAR10(\"./data\", train=False, download=True, transform=transform_test)\n",
        "\n",
        "# DataLoaderの設定\n",
        "batch_size = 64\n",
        "train_loader = DataLoader(cifar10_train, batch_size=batch_size, shuffle=True)\n",
        "test_loader = DataLoader(cifar10_test, batch_size=len(cifar10_test), shuffle=False)"
      ],
      "metadata": {
        "id": "AvJAoKTZM7Z6"
      },
      "execution_count": null,
      "outputs": []
    },
    {
      "cell_type": "code",
      "source": [
        "import torch.nn as nn\n",
        "import torch.nn.functional as F\n",
        "\n",
        "class Net(nn.Module):\n",
        "    def __init__(self):\n",
        "        super().__init__()\n",
        "        self.conv1 = nn.Conv2d(3, 6, 5)  # 畳み込み層:(入力チャンネル数, フィルタ数、フィルタサイズ)\n",
        "        self.pool = nn.MaxPool2d(2, 2)  # プーリング層:（領域のサイズ, ストライド）\n",
        "        self.conv2 = nn.Conv2d(6, 16, 5)\n",
        "        self.fc1 = nn.Linear(16*5*5, 256)  # 全結合層\n",
        "        self.dropout = nn.Dropout(p=0.5)  # ドロップアウト:(p=ドロップアウト率)\n",
        "        self.fc2 = nn.Linear(256, 10)\n",
        "\n",
        "    def forward(self, x):\n",
        "        x = self.pool(F.relu(self.conv1(x)))\n",
        "        x = self.pool(F.relu(self.conv2(x)))\n",
        "        x = x.view(-1, 16*5*5)\n",
        "        x = F.relu(self.fc1(x))\n",
        "        x = self.dropout(x)\n",
        "        x = self.fc2(x)\n",
        "        return x\n",
        "\n",
        "net = Net()\n",
        "net.cuda()  # GPU対応\n",
        "print(net)"
      ],
      "metadata": {
        "id": "6bLqMB6XM9uX"
      },
      "execution_count": null,
      "outputs": []
    },
    {
      "cell_type": "code",
      "source": [
        "from torch import optim\n",
        "\n",
        "# 交差エントロピー誤差関数\n",
        "loss_fnc = nn.CrossEntropyLoss()\n",
        "\n",
        "# 最適化アルゴリズム\n",
        "optimizer = optim.Adam(net.parameters())\n",
        "\n",
        "# 損失のログ\n",
        "record_loss_train = []\n",
        "record_loss_test = []\n",
        "\n",
        "# 学習\n",
        "x_test, t_test = next(iter(test_loader))\n",
        "x_test, t_test = x_test.cuda(), t_test.cuda()\n",
        "for i in range(20):  # 20エポック学習\n",
        "    net.train()  # 訓練モード\n",
        "    loss_train = 0\n",
        "    for j, (x, t) in enumerate(train_loader):  # ミニバッチ（x, t）を取り出す\n",
        "        x, t = x.cuda(), t.cuda()  # GPU対応\n",
        "        y = net(x)\n",
        "        loss = loss_fnc(y, t)\n",
        "        loss_train += loss.item()\n",
        "        optimizer.zero_grad()\n",
        "        loss.backward()\n",
        "        optimizer.step()\n",
        "    loss_train /= j+1\n",
        "    record_loss_train.append(loss_train)\n",
        "\n",
        "    net.eval()  # 評価モード\n",
        "    y_test = net(x_test)\n",
        "    loss_test = loss_fnc(y_test, t_test).item()\n",
        "    record_loss_test.append(loss_test)\n",
        "\n",
        "    if i%1 == 0:\n",
        "        print(\"Epoch:\", i, \"Loss_Train:\", loss_train, \"Loss_Test:\", loss_test)"
      ],
      "metadata": {
        "id": "zdC8FM_hNDLS"
      },
      "execution_count": null,
      "outputs": []
    },
    {
      "cell_type": "code",
      "source": [
        "import torch\n",
        "\n",
        "# state_dict()の表示\n",
        "for key in net.state_dict():\n",
        "    print(key, \": \", net.state_dict()[key].size())\n",
        "print(net.state_dict()[\"conv1.weight\"][0])  # 　パラメータの一部を表示\n",
        "\n",
        "# 保存\n",
        "torch.save(net.state_dict(), \"model_cnn.pth\")"
      ],
      "metadata": {
        "id": "yHylNiLENEt2"
      },
      "execution_count": null,
      "outputs": []
    }
  ]
}